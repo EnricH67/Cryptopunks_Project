{
 "cells": [
  {
   "cell_type": "markdown",
   "metadata": {},
   "source": [
    "# Enric: desde 3001 a 5000\n",
    "### Nos dividimos entre los dos miembros del equipo, el webscrapping de los datos"
   ]
  },
  {
   "cell_type": "code",
   "execution_count": null,
   "metadata": {
    "ExecuteTime": {
     "end_time": "2021-09-08T10:45:21.140934Z",
     "start_time": "2021-09-08T10:45:17.145605Z"
    }
   },
   "outputs": [],
   "source": [
    "import random\n",
    "import time\n",
    "import pandas as pd\n",
    "\n",
    "from selenium import webdriver\n",
    "from selenium.webdriver.chrome.options import Options\n",
    "\n",
    "options = Options()\n",
    "options.headless = True\n",
    "options.add_argument(\"--window-size=1920,1200\")\n",
    "\n",
    "DRIVER_PATH= r'/Users/pau/Downloads/chromedriver'\n",
    "\n",
    "driver = webdriver.Chrome(options=options, executable_path=DRIVER_PATH)"
   ]
  },
  {
   "cell_type": "code",
   "execution_count": null,
   "metadata": {
    "ExecuteTime": {
     "end_time": "2021-09-08T10:45:39.676061Z",
     "start_time": "2021-09-08T10:45:21.148523Z"
    }
   },
   "outputs": [],
   "source": [
    "headers = []\n",
    "punks=[]\n",
    "values = {}\n",
    "#df = pd.DataFrame()\n",
    "n=3001\n",
    "\n",
    "\n",
    "url= 'https://www.larvalabs.com/cryptopunks/details/0'\n",
    "driver.get(url)\n",
    "\n",
    "data = driver.find_element_by_class_name('table-responsive')\n",
    "\n",
    "for element in data.find_elements_by_tag_name('th'):\n",
    "        title = element.text\n",
    "        headers.append(title)\n",
    "headers.append(\"Punk\")\n",
    "\n",
    "def scrap_punks(i):\n",
    "    \n",
    "    url= 'https://www.larvalabs.com/cryptopunks/details/'+str(i)\n",
    "    driver.get(url)\n",
    "    data = driver.find_element_by_class_name('table-responsive')\n",
    "\n",
    "    punks_data=data.find_elements_by_tag_name('td')\n",
    "    punks = [element.text for element in punks_data]\n",
    "    x = int(len(punks)/5)\n",
    "    \n",
    "    for j in range(5):\n",
    "        values[headers[j]]=punks[j::5]\n",
    "        values[\"Punk\"] = [i]*x\n",
    "        \n",
    "    print(i)\n",
    "        \n",
    "    return pd.DataFrame(values)    \n",
    "\n",
    "df = scrap_punks(3000)\n",
    "\n",
    "while n<5000:\n",
    "    df = df.append(scrap_punks(n))\n",
    "    n = n+1\n",
    "\n",
    "# Aproximadamente cada 3 casos, 16 segundos"
   ]
  },
  {
   "cell_type": "code",
   "execution_count": null,
   "metadata": {
    "ExecuteTime": {
     "end_time": "2021-09-08T10:45:39.711587Z",
     "start_time": "2021-09-08T10:45:39.680581Z"
    }
   },
   "outputs": [],
   "source": [
    "df\n",
    "df.to_csv('Transactions_Enric.csv')"
   ]
  }
 ],
 "metadata": {
  "kernelspec": {
   "display_name": "Python 3",
   "language": "python",
   "name": "python3"
  },
  "language_info": {
   "codemirror_mode": {
    "name": "ipython",
    "version": 3
   },
   "file_extension": ".py",
   "mimetype": "text/x-python",
   "name": "python",
   "nbconvert_exporter": "python",
   "pygments_lexer": "ipython3",
   "version": "3.8.5"
  },
  "varInspector": {
   "cols": {
    "lenName": 16,
    "lenType": 16,
    "lenVar": 40
   },
   "kernels_config": {
    "python": {
     "delete_cmd_postfix": "",
     "delete_cmd_prefix": "del ",
     "library": "var_list.py",
     "varRefreshCmd": "print(var_dic_list())"
    },
    "r": {
     "delete_cmd_postfix": ") ",
     "delete_cmd_prefix": "rm(",
     "library": "var_list.r",
     "varRefreshCmd": "cat(var_dic_list()) "
    }
   },
   "types_to_exclude": [
    "module",
    "function",
    "builtin_function_or_method",
    "instance",
    "_Feature"
   ],
   "window_display": false
  }
 },
 "nbformat": 4,
 "nbformat_minor": 5
}
